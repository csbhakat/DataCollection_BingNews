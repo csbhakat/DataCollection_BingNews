{
 "cells": [
  {
   "cell_type": "markdown",
   "metadata": {},
   "source": [
    "Foundation Project - Indian School of Business.\n",
    "\n",
    "This code will scrape news from different news articles based on search term . Here we are collecting news related to amazon."
   ]
  },
  {
   "cell_type": "markdown",
   "metadata": {},
   "source": [
    "### Install Required Packages"
   ]
  },
  {
   "cell_type": "code",
   "execution_count": 1,
   "metadata": {},
   "outputs": [
    {
     "name": "stdout",
     "output_type": "stream",
     "text": [
      "Requirement already satisfied: requests in c:\\programdata\\anaconda3\\lib\\site-packages (2.24.0)\n",
      "Requirement already satisfied: certifi>=2017.4.17 in c:\\programdata\\anaconda3\\lib\\site-packages (from requests) (2020.6.20)\n",
      "Requirement already satisfied: idna<3,>=2.5 in c:\\programdata\\anaconda3\\lib\\site-packages (from requests) (2.10)\n",
      "Requirement already satisfied: urllib3!=1.25.0,!=1.25.1,<1.26,>=1.21.1 in c:\\programdata\\anaconda3\\lib\\site-packages (from requests) (1.25.9)\n",
      "Requirement already satisfied: chardet<4,>=3.0.2 in c:\\programdata\\anaconda3\\lib\\site-packages (from requests) (3.0.4)\n",
      "Requirement already satisfied: beautifulsoup4 in c:\\programdata\\anaconda3\\lib\\site-packages (4.9.1)\n",
      "Requirement already satisfied: soupsieve>1.2 in c:\\programdata\\anaconda3\\lib\\site-packages (from beautifulsoup4) (2.0.1)\n"
     ]
    }
   ],
   "source": [
    "! pip install requests\n",
    "! pip install beautifulsoup4"
   ]
  },
  {
   "cell_type": "markdown",
   "metadata": {},
   "source": [
    "### Collect URLs for Search Terms"
   ]
  },
  {
   "cell_type": "code",
   "execution_count": 2,
   "metadata": {
    "scrolled": true
   },
   "outputs": [],
   "source": [
    "from bs4 import BeautifulSoup\n",
    "import requests\n",
    "import re\n",
    "\n",
    "list_of_search_terms = [\"amazon\", \n",
    "                        \"amazon workers dissatisfaction\",\n",
    "                        \"amazon innovation\",\n",
    "                        \"amazon customer satisfaction\",\n",
    "                        \"amazon India\",\n",
    "                        \"amazon covid19\"\n",
    "                        ]\n",
    "\n",
    "url = \"https://www.bing.com/news/search?q={0}\"\n",
    "compiled_urls = {}\n",
    "\n",
    "for search_word in list_of_search_terms:\n",
    "    compiled_urls[search_word] = set()\n",
    "    formatted_search_word = search_word.replace(\" \", \"+\")\n",
    "    response = requests.get(url.format(formatted_search_word))\n",
    "    soup = BeautifulSoup(response.text, 'html.parser')\n",
    "    url_search_results = soup.find_all('a', href=True)\n",
    "    \n",
    "    bad_urls = [\"javascript:\", \"/news/search?q=\", \"/rewards\", \"/images\", \"/videos\", \"/maps\", \"/shop\", \"/profile\", \n",
    "               \"/search\", \"/?FORM\",\"/news?FORM=HDRSC6\"]\n",
    "    \n",
    "    for url_s in url_search_results:\n",
    "        if ((not url_s['href'].startswith(tuple(bad_urls))) and \n",
    "        (\"go.microsoft.com\" not in url_s['href']) and \n",
    "        (url_s['href'] != \"#\")): \n",
    "            compiled_urls[search_word].add(url_s['href'])"
   ]
  },
  {
   "cell_type": "code",
   "execution_count": 3,
   "metadata": {},
   "outputs": [
    {
     "data": {
      "text/plain": [
       "{'https://www.globalbankingandfinance.com/from-legacy-to-digital-how-financial-institutions-can-make-the-transition/',\n",
       " 'https://www.piworld.com/article/tracking-the-latest-trends-impacting-the-mail/',\n",
       " 'https://www.politico.eu/article/muddled-messaging-fuels-backlash-against-lockdown-in-france/',\n",
       " 'https://www.politicsweb.co.za/iservice/brazils-rollercoaster-2014-election',\n",
       " 'https://www.traveller.com.au/how-to-spot-fake-reviews-on-travel-websites-h1rsgv'}"
      ]
     },
     "execution_count": 3,
     "metadata": {},
     "output_type": "execute_result"
    }
   ],
   "source": [
    "# Example set of collected URLS:\n",
    "compiled_urls[\"amazon workers dissatisfaction\"]"
   ]
  },
  {
   "cell_type": "markdown",
   "metadata": {},
   "source": [
    "### Gather Article Information"
   ]
  },
  {
   "cell_type": "code",
   "execution_count": 7,
   "metadata": {
    "scrolled": true
   },
   "outputs": [
    {
     "name": "stdout",
     "output_type": "stream",
     "text": [
      "https://www.moneycontrol.com/news/business/amazon-not-entitled-to-object-cannot-control-frl-board-harish-salve-tells-delhi-high-court-6136131.html\n",
      "https://www.moneycontrol.com/news/business/amazon-not-entitled-to-object-cannot-control-frl-board-harish-salve-tells-delhi-high-court-6136131.html\n",
      "https://www.gizbot.com/apps/news/amazon-quiz-answers-for-november-19-here-s-your-chance-to-win-rs-20-000-amazon-pay-balance-071070.html\n",
      "https://www.gizbot.com/apps/news/amazon-quiz-answers-for-november-19-here-s-your-chance-to-win-rs-20-000-amazon-pay-balance-071070.html\n",
      "https://www.businessinsider.in/business/ecommerce/news/amazon-layoffs-several-employees-in-prime-air-drone-project-report/articleshow/79305510.cms\n",
      "https://www.businessinsider.in/business/ecommerce/news/amazon-layoffs-several-employees-in-prime-air-drone-project-report/articleshow/79305510.cms\n",
      "https://indianexpress.com/article/technology/tech-news-technology/amazon-adds-hindi-support-for-alexa-on-fire-tv-all-you-need-to-know/\n",
      "https://indianexpress.com/article/technology/tech-news-technology/amazon-adds-hindi-support-for-alexa-on-fire-tv-all-you-need-to-know/\n",
      "https://www.msn.com/en-in/finance/topstories/future-deal-amazon-ensnared-in-web-of-contradictions/ar-BB1b9ghh\n",
      "https://www.msn.com/en-in/finance/topstories/future-deal-amazon-ensnared-in-web-of-contradictions/ar-BB1b9ghh\n",
      "https://www.sify.com/finance/if-control-is-read-as-sought-by-amazon-now-its-investment-would-be-violation-of-fdi-policy-news-topnews-ultf7mbdgefjf.html\n",
      "https://www.sify.com/finance/if-control-is-read-as-sought-by-amazon-now-its-investment-would-be-violation-of-fdi-policy-news-topnews-ultf7mbdgefjf.html\n",
      "https://www.digit.in/news/tvs/amazon-brings-hindi-support-to-alexa-on-fire-tv-devices-57319.html\n",
      "https://www.digit.in/news/tvs/amazon-brings-hindi-support-to-alexa-on-fire-tv-devices-57319.html\n",
      "https://www.livemint.com/companies/news/amazon-is-behaving-like-east-india-company-future-retail-to-hc-11605787039497.html\n",
      "https://www.livemint.com/companies/news/amazon-is-behaving-like-east-india-company-future-retail-to-hc-11605787039497.html\n",
      "https://www.msn.com/en-in/news/other/amazon-adds-hindi-support-for-alexa-on-fire-tv/ar-BB1batXh\n",
      "https://www.msn.com/en-in/news/other/amazon-adds-hindi-support-for-alexa-on-fire-tv/ar-BB1batXh\n",
      "https://www.msn.com/en-in/news/other/future-retail-amazon-saga-indicates-a-collapse-of-corporate-governance/ar-BB1banMr\n",
      "https://www.msn.com/en-in/news/other/future-retail-amazon-saga-indicates-a-collapse-of-corporate-governance/ar-BB1banMr\n",
      "https://www.indiatvnews.com/technology/news-amazon-alexa-gets-hindi-support-on-fire-tv-666017\n",
      "https://www.indiatvnews.com/technology/news-amazon-alexa-gets-hindi-support-on-fire-tv-666017\n",
      "https://www.traveller.com.au/how-to-spot-fake-reviews-on-travel-websites-h1rsgv\n",
      "https://www.traveller.com.au/how-to-spot-fake-reviews-on-travel-websites-h1rsgv\n",
      "https://www.politicsweb.co.za/iservice/brazils-rollercoaster-2014-election\n",
      "https://www.politicsweb.co.za/iservice/brazils-rollercoaster-2014-election\n",
      "https://www.globalbankingandfinance.com/from-legacy-to-digital-how-financial-institutions-can-make-the-transition/\n",
      "https://www.globalbankingandfinance.com/from-legacy-to-digital-how-financial-institutions-can-make-the-transition/\n",
      "https://www.politico.eu/article/muddled-messaging-fuels-backlash-against-lockdown-in-france/\n",
      "https://www.politico.eu/article/muddled-messaging-fuels-backlash-against-lockdown-in-france/\n",
      "https://www.piworld.com/article/tracking-the-latest-trends-impacting-the-mail/\n",
      "https://www.piworld.com/article/tracking-the-latest-trends-impacting-the-mail/\n",
      "https://www.indianweb2.com/2020/11/amazon-and-global-optimism-welcome.html\n",
      "https://www.indianweb2.com/2020/11/amazon-and-global-optimism-welcome.html\n",
      "https://www.themobileindian.com/news/amazon-india-launches-made-in-india-toy-store-to-support-local-talent-33997\n",
      "https://www.themobileindian.com/news/amazon-india-launches-made-in-india-toy-store-to-support-local-talent-33997\n",
      "https://english.newstracklive.com/news/exclusive-store-for-made-in-india-toys-by-amazon-sc18-nu306-ta306-1129892-1.html\n",
      "https://english.newstracklive.com/news/exclusive-store-for-made-in-india-toys-by-amazon-sc18-nu306-ta306-1129892-1.html\n",
      "https://yourstory.com/2020/11/manikandan-thangarathnam-uber-innovation-amazon\n",
      "https://yourstory.com/2020/11/manikandan-thangarathnam-uber-innovation-amazon\n",
      "https://economictimes.indiatimes.com/tech/tech-bytes/amazon-web-services-to-invest-2-77-billion-in-telangana-to-set-up-multiple-data-centres/articleshow/79077071.cms\n",
      "https://economictimes.indiatimes.com/tech/tech-bytes/amazon-web-services-to-invest-2-77-billion-in-telangana-to-set-up-multiple-data-centres/articleshow/79077071.cms\n",
      "https://swarajyamag.com/insta/boost-to-indian-toy-industry-amazon-launches-made-in-india-toy-store\n",
      "https://swarajyamag.com/insta/boost-to-indian-toy-industry-amazon-launches-made-in-india-toy-store\n",
      "https://economictimes.indiatimes.com/tech/technology/meet-the-winners-of-et-innovation-awards-2020/articleshow/79121397.cms\n",
      "https://economictimes.indiatimes.com/tech/technology/meet-the-winners-of-et-innovation-awards-2020/articleshow/79121397.cms\n",
      "https://www.businesstoday.in/videos/news-reel/amazon-launches-online-pharmacy-goldman-sachs-revises-indias-growth-forecast/422304.html\n",
      "https://www.businesstoday.in/videos/news-reel/amazon-launches-online-pharmacy-goldman-sachs-revises-indias-growth-forecast/422304.html\n",
      "https://www.thenewsminute.com/article/amazon-india-launches-made-india-toy-store-137949\n",
      "https://www.thenewsminute.com/article/amazon-india-launches-made-india-toy-store-137949\n",
      "https://www.businessinsider.in/tech/enterprise/news/innovation-inc-how-the-amazon-effect-has-reached-the-washington-post/articleshow/79139616.cms\n",
      "https://www.businessinsider.in/tech/enterprise/news/innovation-inc-how-the-amazon-effect-has-reached-the-washington-post/articleshow/79139616.cms\n",
      "https://www.indiaretailing.com/2020/11/19/retail/amazon-opens-made-in-india-toy-store/\n",
      "https://www.indiaretailing.com/2020/11/19/retail/amazon-opens-made-in-india-toy-store/\n",
      "https://yourstory.com/2020/11/innovation-ultimatum-technologies-steve-brown-book-review\n",
      "https://yourstory.com/2020/11/innovation-ultimatum-technologies-steve-brown-book-review\n",
      "https://www.business2community.com/strategy/7-amazon-performance-metrics-you-should-be-tracking-02362377\n",
      "https://www.business2community.com/strategy/7-amazon-performance-metrics-you-should-be-tracking-02362377\n",
      "https://www.youthkiawaaz.com/2020/11/forget-the-single-screens-even-multiplexes-are-plunging-into-darkness/\n",
      "https://www.youthkiawaaz.com/2020/11/forget-the-single-screens-even-multiplexes-are-plunging-into-darkness/\n",
      "https://www.analyticsinsight.net/top-10-machine-learning-applications-and-use-cases-in-our-daily-life/\n",
      "https://www.analyticsinsight.net/top-10-machine-learning-applications-and-use-cases-in-our-daily-life/\n",
      "https://news.topwirenews.com/2020/11/15/prostastream-reviews-groundbreaking-new-report-on-prostastream-ingredients_15158/\n",
      "https://news.topwirenews.com/2020/11/15/prostastream-reviews-groundbreaking-new-report-on-prostastream-ingredients_15158/\n",
      "https://www.uniindia.com/ibm-to-acquire-instana-as-company-continues-to-advance-its-hybrid-cloud-and-ai-strategy/business-economy/news/2238172.html\n",
      "https://www.uniindia.com/ibm-to-acquire-instana-as-company-continues-to-advance-its-hybrid-cloud-and-ai-strategy/business-economy/news/2238172.html\n",
      "https://www.msn.com/en-in/finance/technology/oxygen-os-crowned-the-most-preferred-os-oneplus-says-there-e2-80-99s-more-to-come/ar-BB1b7n09\n",
      "https://www.msn.com/en-in/finance/technology/oxygen-os-crowned-the-most-preferred-os-oneplus-says-there-e2-80-99s-more-to-come/ar-BB1b7n09\n",
      "https://in.news.yahoo.com/autonomous-data-platform-market-research-160800290.html\n",
      "https://in.news.yahoo.com/autonomous-data-platform-market-research-160800290.html\n",
      "http://www.saharasamay.com/business-news/676628277/whatsapp-pay-latest-digital-payment-provider-in-india.html\n",
      "http://www.saharasamay.com/business-news/676628277/whatsapp-pay-latest-digital-payment-provider-in-india.html\n",
      "https://www.infosys.com/iki/insights/imperative-digital.html\n",
      "https://www.infosys.com/iki/insights/imperative-digital.html\n",
      "https://www.indiainfoline.com/article/general-blog/seven-megatrends-that-you-could-see-in-business-2021-120110600414_1.html\n"
     ]
    },
    {
     "name": "stdout",
     "output_type": "stream",
     "text": [
      "https://www.indiainfoline.com/article/general-blog/seven-megatrends-that-you-could-see-in-business-2021-120110600414_1.html\n",
      "https://www.scoop.co.nz/stories/BU2011/S00347/vodafone-nz-to-roll-out-amazon-connect-in-contact-centres-to-further-improve-customer-experience.htm\n",
      "https://www.scoop.co.nz/stories/BU2011/S00347/vodafone-nz-to-roll-out-amazon-connect-in-contact-centres-to-further-improve-customer-experience.htm\n",
      "https://yourstory.com/2020/11/amazon-india-launches-step-accelerate-growth-sellers\n",
      "https://yourstory.com/2020/11/amazon-india-launches-step-accelerate-growth-sellers\n",
      "https://www.thenewsminute.com/article/amazon-india-launches-performance-based-benefits-program-7-lakh-sellers-137745\n",
      "https://www.thenewsminute.com/article/amazon-india-launches-performance-based-benefits-program-7-lakh-sellers-137745\n",
      "https://www.livemint.com/companies/news/amazon-india-launches-new-programme-to-assess-sellers-11605532660785.html\n",
      "https://www.livemint.com/companies/news/amazon-india-launches-new-programme-to-assess-sellers-11605532660785.html\n",
      "https://www.ibef.org/news/amazon-opens-made-in-india-toy-store-amid-centres-selfreliance-mission\n",
      "https://www.ibef.org/news/amazon-opens-made-in-india-toy-store-amid-centres-selfreliance-mission\n",
      "https://www.themobileindian.com/news/amazon-india-launches-made-in-india-toy-store-to-support-local-talent-33997\n",
      "https://www.themobileindian.com/news/amazon-india-launches-made-in-india-toy-store-to-support-local-talent-33997\n",
      "https://www.voicendata.com/amazon-launches-made-india-toy-store-support-local-talent/\n",
      "https://www.voicendata.com/amazon-launches-made-india-toy-store-support-local-talent/\n",
      "https://www.dqindia.com/amazon-india-launches-new-made-india-online-toy-store-nurture-local-talent/\n",
      "https://www.dqindia.com/amazon-india-launches-new-made-india-online-toy-store-nurture-local-talent/\n",
      "https://www.livemint.com/companies/news/amazon-is-behaving-like-east-india-company-future-retail-to-hc-11605787039497.html\n",
      "https://www.livemint.com/companies/news/amazon-is-behaving-like-east-india-company-future-retail-to-hc-11605787039497.html\n",
      "https://www.moneycontrol.com/news/business/how-the-likes-of-amazon-have-circumvented-indias-fdi-laws-6126901.html\n",
      "https://www.moneycontrol.com/news/business/how-the-likes-of-amazon-have-circumvented-indias-fdi-laws-6126901.html\n",
      "https://www.thenewsminute.com/article/amazon-india-launches-made-india-toy-store-137949\n",
      "https://www.thenewsminute.com/article/amazon-india-launches-made-india-toy-store-137949\n",
      "https://www.msn.com/en-in/finance/technology/amazon-launches-made-in-india-online-toy-store-amid-calls-for-made-in-india-products/ar-BB1b7uNP\n",
      "https://www.msn.com/en-in/finance/technology/amazon-launches-made-in-india-online-toy-store-amid-calls-for-made-in-india-products/ar-BB1b7uNP\n",
      "https://www.indiaretailing.com/2020/11/19/retail/amazon-opens-made-in-india-toy-store/\n",
      "https://www.indiaretailing.com/2020/11/19/retail/amazon-opens-made-in-india-toy-store/\n",
      "https://economictimes.indiatimes.com/news/international/business/amazon-expands-in-brazil-riding-e-commerce-boom-set-off-by-covid-19-distancing/articleshow/79124242.cms\n",
      "https://economictimes.indiatimes.com/news/international/business/amazon-expands-in-brazil-riding-e-commerce-boom-set-off-by-covid-19-distancing/articleshow/79124242.cms\n",
      "https://english.newstracklive.com/news/amazon-stalling-the-future-deal-with-reliance-puts-big-bazaar-owner-in-trouble-sc18-nu306-ta306-1130107-1.html\n",
      "https://english.newstracklive.com/news/amazon-stalling-the-future-deal-with-reliance-puts-big-bazaar-owner-in-trouble-sc18-nu306-ta306-1130107-1.html\n",
      "https://www.indiatoday.in/binge-watch/story/made-in-heaven-star-arjun-mathur-tests-coronavirus-positive-1742260-2020-11-19\n",
      "https://www.indiatoday.in/binge-watch/story/made-in-heaven-star-arjun-mathur-tests-coronavirus-positive-1742260-2020-11-19\n",
      "https://economictimes.indiatimes.com/news/international/business/covid-19-crisis-a-shot-in-the-arm-for-russian-e-commerce/articleshow/79300832.cms\n",
      "https://economictimes.indiatimes.com/news/international/business/covid-19-crisis-a-shot-in-the-arm-for-russian-e-commerce/articleshow/79300832.cms\n",
      "https://www.hindustantimes.com/brand-stories/galgotias-university-breaks-placement-records-despite-the-covid19-pandemic/story-gurvSnNBzNpgNIeX0XRTBO.html\n",
      "https://www.hindustantimes.com/brand-stories/galgotias-university-breaks-placement-records-despite-the-covid19-pandemic/story-gurvSnNBzNpgNIeX0XRTBO.html\n",
      "https://www.deccanherald.com/business/fired-amazon-worker-files-discrimination-lawsuit-over-covid-19-conditions-914966.html\n",
      "https://www.deccanherald.com/business/fired-amazon-worker-files-discrimination-lawsuit-over-covid-19-conditions-914966.html\n",
      "https://www.livemint.com/market/stock-market-news/amid-covid-curbs-dow-falls-360-pts-amazon-sinks-drugstore-shares-tesla-surges-11605625417457.html\n",
      "https://www.livemint.com/market/stock-market-news/amid-covid-curbs-dow-falls-360-pts-amazon-sinks-drugstore-shares-tesla-surges-11605625417457.html\n",
      "https://www.cnbc.com/2020/11/17/amazon-sellers-fined-for-coronavirus-price-gouging-hand-sanitizer.html\n",
      "https://www.cnbc.com/2020/11/17/amazon-sellers-fined-for-coronavirus-price-gouging-hand-sanitizer.html\n",
      "https://risingkashmir.com/home/news_description/369368/Amid-Covid-19-Kashmiri-art-turns-to-virtual-fairs\n",
      "https://risingkashmir.com/home/news_description/369368/Amid-Covid-19-Kashmiri-art-turns-to-virtual-fairs\n",
      "https://www.msn.com/en-in/finance/technology/amazon-great-india-festival-sale-boosts-small-retailers-in-covid-19-hit-festive-season/ar-BB1aPgIp\n",
      "https://www.msn.com/en-in/finance/technology/amazon-great-india-festival-sale-boosts-small-retailers-in-covid-19-hit-festive-season/ar-BB1aPgIp\n",
      "https://in.reuters.com/article/us-health-coronavirus-france-idINKBN27X0MX\n",
      "https://in.reuters.com/article/us-health-coronavirus-france-idINKBN27X0MX\n",
      "https://www.msn.com/en-in/health/health-news/itll-take-weeks-to-vet-a-covid-19-vaccine/ar-BB1b5RmJ\n",
      "https://www.msn.com/en-in/health/health-news/itll-take-weeks-to-vet-a-covid-19-vaccine/ar-BB1b5RmJ\n"
     ]
    }
   ],
   "source": [
    "import csv\n",
    "\n",
    "rows = []\n",
    "for search_word in compiled_urls:\n",
    "    urls = compiled_urls[search_word]\n",
    "    for url in urls:\n",
    "        print(url)\n",
    "        # Retrieve page text\n",
    "        try:\n",
    "            page = requests.get(url, timeout=None).text\n",
    "#         except requests.exceptions.Timeout:\n",
    "#             # Timeout occurred\n",
    "#             row = [search_word, url, \"\", \"\"]\n",
    "#             rows.append(row)\n",
    "#             break\n",
    "            # Turn page into BeautifulSoup object to access HTML tags\n",
    "            soup = BeautifulSoup(page)\n",
    "\n",
    "            print(url)\n",
    "\n",
    "            # Get headline\n",
    "            if soup.find('h1') != None:\n",
    "                headline = soup.find('h1').get_text()\n",
    "            else:\n",
    "                headline = \"\"\n",
    "\n",
    "            # Get text from all <p> tags.\n",
    "            p_tags = soup.find_all('p')\n",
    "            # Get the text from each of the “p” tags and strip surrounding whitespace.\n",
    "            if p_tags != None:\n",
    "                p_tags_text = [tag.get_text().strip() for tag in p_tags]\n",
    "            else:\n",
    "                p_tags_text = \"\"\n",
    "\n",
    "            # Filter out sentences that contain newline characters '\\n' or don't contain periods.\n",
    "            sentence_list = [sentence for sentence in p_tags_text if not '\\n' in sentence]\n",
    "            sentence_list = [sentence for sentence in sentence_list if '.' in sentence]\n",
    "            # Combine list items into string.\n",
    "            article = ' '.join(sentence_list)\n",
    "\n",
    "            row = [search_word, url, headline, article]\n",
    "            rows.append(row)\n",
    "        except:\n",
    "            print(\"not able to scrape the site\")"
   ]
  },
  {
   "cell_type": "markdown",
   "metadata": {},
   "source": [
    "### Output to CSV File for Ingestion Team"
   ]
  },
  {
   "cell_type": "code",
   "execution_count": 8,
   "metadata": {},
   "outputs": [],
   "source": [
    "fields = [\"Search Term\", \"Source\", \"Title\", \"Article Content\"]\n",
    "filename = \"ws1_web_crawler_results.csv\"\n",
    "\n",
    "with open(filename, 'w',encoding=\"utf-8\") as csvfile: \n",
    "    csvwriter = csv.writer(csvfile)  \n",
    "    csvwriter.writerow(fields)   \n",
    "    csvwriter.writerows(rows)\n",
    "    \n",
    "# with open(fname, \"w\", encoding=\"utf-8\") as csvfile:\n",
    "#     f.write(html)"
   ]
  },
  {
   "cell_type": "code",
   "execution_count": null,
   "metadata": {},
   "outputs": [],
   "source": [
    "pwd"
   ]
  },
  {
   "cell_type": "code",
   "execution_count": null,
   "metadata": {},
   "outputs": [],
   "source": []
  }
 ],
 "metadata": {
  "kernelspec": {
   "display_name": "Python 3",
   "language": "python",
   "name": "python3"
  },
  "language_info": {
   "codemirror_mode": {
    "name": "ipython",
    "version": 3
   },
   "file_extension": ".py",
   "mimetype": "text/x-python",
   "name": "python",
   "nbconvert_exporter": "python",
   "pygments_lexer": "ipython3",
   "version": "3.8.3"
  }
 },
 "nbformat": 4,
 "nbformat_minor": 2
}
